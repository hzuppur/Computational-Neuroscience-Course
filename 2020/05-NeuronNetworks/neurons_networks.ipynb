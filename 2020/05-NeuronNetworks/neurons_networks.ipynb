{
 "cells": [
  {
   "cell_type": "markdown",
   "metadata": {},
   "source": [
    "<h1><center>Introduction to Computational Neuroscience</center></h1>\n",
    "<h1><center> Practice V: Neurons Networks </center></h1>\n",
    "<center>Daniel Majoral, Aqeel Labash, Raul Vicente</center>"
   ]
  },
  {
   "cell_type": "markdown",
   "metadata": {},
   "source": [
    "<center> October 16 2018 <center>"
   ]
  },
  {
   "cell_type": "markdown",
   "metadata": {},
   "source": [
    "### Important:\n",
    "Make sure that you saved your ipynb file correctly to avoid loss of information. Please submit this **ipynb** file only (unless you have extra files then zip this file with the extra ones). Everything should be included in this file questions, answers, codes, plots, and comments about your solutions.\n",
    "\n",
    "My **Pseudonym** is: <font color='green'>[YOUR ANSWER]</font> and it took me approximately: <font color='green'>[YOUR ANSWER]</font> hours to complete the home work.\n",
    "\n",
    "The data of how long it took you to complete the home work will help us to improve the home works to be balanced."
   ]
  },
  {
   "cell_type": "markdown",
   "metadata": {},
   "source": [
    "In this session we will have a brief look on how neurons behave if we make them interact\n",
    "with each other. For this purpose we use the integrate-and-fire neuron with leak currents and\n",
    "synaptic currents, which was already part of the homework last week. This time I have written\n",
    "lots of new code for you to run and explore. You will need to change parameters here and there\n",
    "and draw conclusions from what you see. As there is no coding demanded, the answers and\n",
    "analysis are expected to be thorough. (HINT if you are not sure about an effect or tendency,\n",
    "you are free to run more simulations -with different parameter values- than you are asked to)"
   ]
  },
  {
   "cell_type": "markdown",
   "metadata": {},
   "source": [
    "## Exercise 1.1: Two neurons.\n"
   ]
  },
  {
   "cell_type": "markdown",
   "metadata": {},
   "source": [
    "### Part I: competition (1pt)\n",
    "    \n"
   ]
  },
  {
   "cell_type": "markdown",
   "metadata": {},
   "source": [
    "In the lecture you saw microcircuits (canonical circuits) consisting of three neurons. These triplets gave rise to different behaviours,  depending\n",
    "on how the neurons were connected to each other. In this task we will model a very similar thing, but with only 2 neurons. The effect of\n",
    "a third neuron is replaced by injected currents.\n"
   ]
  },
  {
   "cell_type": "markdown",
   "metadata": {},
   "source": [
    "**Description of neurons:** We have two identical neurons that both receive the same\n",
    "amount of constant input (I<sub>injected</sub>), the ion pumps in their membranes also give rise to I<sub>leak</sub>.\n",
    "Importantly, they also receive input from the other neuron, summarized in the current I<sub>syn</sub>.\n",
    "Starting from the second TODO, we make our neurons also targets of noise-currents (that can\n",
    "be both negative and positive) I<sub>noise</sub>. In all, the 4 types of currents sum up to give rise to the\n",
    "changes in the membrane potential.\n"
   ]
  },
  {
   "cell_type": "markdown",
   "metadata": {},
   "source": [
    "As you know already from earlier lectures, the synaptic interactions between neurons can\n",
    "be of excitatory or inhibitory nature. We will first take a look at the case where the neurons\n",
    "inhibit each other. That means neuron A has an inhibitory synapse on the dendrites of neuron\n",
    "B and vice versa."
   ]
  },
  {
   "cell_type": "markdown",
   "metadata": {},
   "source": [
    "Every time neuron A reaches threshold, an inhibitory synaptic current will flow into neuron\n",
    "B. This current will lower the membrane potential and reduce the chance of B firing for a period\n",
    "of time. As a result, neuron A might reach the threshold again (for a second time) before B\n",
    "even reaches the threshold for the first time. This adds further inhibition to B and makes it's\n",
    "firing even less probable. Eventually, even though the two identical neurons both receive the\n",
    "same amount of excitatory injected current, neuron B might never fire at all! Symmetrically, if\n",
    "it had been neuron B that fired first, it would be the neuron A that will be forever inhibited.\n",
    "That's why we call this configuration \"competition\" - the neurons compete with each other on\n",
    "who has the right to be active (and \"the winner takes it all\")."
   ]
  },
  {
   "cell_type": "code",
   "execution_count": null,
   "metadata": {},
   "outputs": [],
   "source": [
    "# Adding libraries \n",
    "import numpy as np\n",
    "import matplotlib.pyplot as plt\n",
    "%matplotlib inline\n",
    "from math import exp,sqrt"
   ]
  },
  {
   "cell_type": "code",
   "execution_count": null,
   "metadata": {},
   "outputs": [],
   "source": [
    "class Neuron(object):\n",
    "    \"\"\"Standard neuron for this practice.\n",
    "    \"\"\"\n",
    "    #Constant parameters\n",
    "    C = 0.1        # capacity\n",
    "    R = 1          # resistance\n",
    "      \n",
    "    Vr = -75.0 # reset potential in mV\n",
    "    V0 = -70.0 # resting potential in mV\n",
    "\n",
    "    tc = -100000 \n",
    "    th = -55.0    #the neuron threshold\n",
    "    \n",
    "    g_leak = 1\n",
    "   \n",
    "    def __init__(self,spike_strength,I_const,g_leak,taus):\n",
    "        \n",
    "        self.V = self.V0 + np.random.normal(1)*5  # Random initial voltage\n",
    "        \n",
    "        self.spike_strength = spike_strength # How incoming synapses influence this neuron\n",
    "        self.t_last_spike = -100 # Synaptic currents want to know the last output spike time\n",
    "    \n",
    "        self.Vm = []     # History with all past membrane potentials\n",
    "        self.spikes = [] # History with all past spikes 0 not spike 1 spike\n",
    "        \n",
    "        self.seps = 0 # Current from neighbour neurons spikes\n",
    "        \n",
    "        self.I_const = I_const # Current that simulates global activity from other neurons\n",
    "        self.g_leak =  g_leak\n",
    "        self.taus = taus # how fast does the synaptic current decays (half life)\n",
    "    \n",
    "        self.RC = self.R*self.C\n",
    "       \n",
    "    def checkspike(self,t): #Checks if the neuron has generated an spike and updates parameters  \n",
    "        s = 0 \n",
    "        if(self.V >= self.th):   \n",
    "            s = 1\n",
    "            self.V = self.Vr \n",
    "            self.t_last_spike = t  \n",
    "        \n",
    "        self.spikes.append(s)   \n",
    "          \n",
    "    def synaptic_input(self,input_spikes,t):\n",
    "        \"\"\"Calculates the current coming from other neurons spikes\"\"\"\n",
    "        \n",
    "        self.seps = 0\n",
    "        for t_spike in input_spikes:\n",
    "            \n",
    "            eps = 0\n",
    "            \n",
    "            if (self.t_last_spike <= t_spike) and (t_spike <= t): #the last output was long time ago\n",
    "                    td = t - t_spike\n",
    "                    eps = exp(-td/self.RC) -exp(-td/self.taus)\n",
    "                  \n",
    "            if (t_spike < self.t_last_spike) and (self.t_last_spike <= t): # there has been an output after our input \n",
    "                    td1 = self.t_last_spike - t_spike\n",
    "                    td2 = t - self.t_last_spike\n",
    "                    eps = exp(-td1/self.taus)*(exp(-td2/self.RC) - exp(-td2/self.taus)) \n",
    "                   \n",
    "            self.seps += eps; # current from spikes\n",
    "    \n",
    "    def update_voltage(self,t,noise,dt):\n",
    "        \"Calculates the currents and updates the voltage of the neuron\"\n",
    "            \n",
    "        I_syn = self.spike_strength * 1/(1-self.taus/self.RC)*self.seps \n",
    "        I_noise = noise*sqrt(dt)*np.random.randn()\n",
    "        \n",
    "        I_injected = dt*self.I_const/self.C\n",
    "        I_leak = self.g_leak*dt*(self.V0 - self.V)/(self.RC)\n",
    "        \n",
    "        self.V = self.V + I_leak + I_injected + I_syn + I_noise\n",
    "        self.Vm.append(self.V)\n",
    "        \n",
    "    def display(self):\n",
    "        \"\"\"Display Neuron parameters.\"\"\"\n",
    "        print(\"\\n Neuron Parameters:\")\n",
    "        for a in dir(self):\n",
    "            if not a.startswith(\"__\") and not callable(getattr(self, a)):\n",
    "                print(\"{:30} {}\".format(a, getattr(self, a)))\n",
    "        print(\"\\n\")\n",
    "   \n",
    "#Function to draw the neurons.          \n",
    "def Plot_neurons(neurons,colors=['red','blue'],figsize_p=(12,6),p_xlbl='time [ms]',p_ylbl='Vm(t)  [mV]'):\n",
    "    plt.figure(figsize=figsize_p)  \n",
    "    for i in range(len(neurons)):\n",
    "        plt.plot(neurons[i].Vm,color=colors[i])\n",
    "        for j,v in enumerate(neurons[i].Vm):\n",
    "            if v>neurons[i].th:\n",
    "                plt.scatter(j,neurons[i].Vm[j],facecolors='none',color=colors[i])\n",
    "    plt.xlabel(p_xlbl);\n",
    "    plt.ylabel(p_ylbl)\n",
    "    plt.ylim(-100, -50)    \n",
    "    plt.show()\n",
    "\n",
    "n1 = Neuron(spike_strength=-200,I_const=50,g_leak=1,taus=20) \n",
    "n1.display()"
   ]
  },
  {
   "cell_type": "code",
   "execution_count": null,
   "metadata": {},
   "outputs": [],
   "source": [
    "def competition(noise,spike_strength = -200.0):\n",
    "\n",
    "    T = 4     #duration of simulation in sec\n",
    "    dt= 0.001\n",
    "    I_const = 50.0; # injected current to each cell\n",
    "    g_leak = 1\n",
    "    taus = 20\n",
    "    number_of_steps = int(T/dt)\n",
    "    \n",
    "    n_neurons = 2\n",
    "    \n",
    "    #How neurons are connected between them if [0,1] == 1 then conexion from neuron 0 to 1     \n",
    "    connectivity = np.zeros((n_neurons,n_neurons))\n",
    "    connectivity[0,1] =1 \n",
    "    connectivity[1,0] =1\n",
    "    \n",
    "    #We create the neurons with the class from the previous cell\n",
    "    neurons = []\n",
    "    for n in range(n_neurons): \n",
    "        neurons.append(Neuron(spike_strength,I_const,g_leak,taus))\n",
    "   \n",
    "    print('Initial voltages:',neurons[0].V,neurons[1].V)\n",
    "                  \n",
    "    for i in range(number_of_steps): \n",
    "        \n",
    "        for j,ne in enumerate(neurons): \n",
    "            \n",
    "            ne.checkspike(i) #Checks if the neuron has generated one spike\n",
    "        \n",
    "            neighbours = np.where(connectivity[j,:] == 1)  #Neurons from wich the neuron receives inputs \n",
    "            \n",
    "            #Calculate incoming spikes \n",
    "            in_spikes=[]\n",
    "            for ngh in neighbours:\n",
    "                nh_time_spike = np.concatenate(np.nonzero(neurons[ngh[0]].spikes))  #past timepoints with spikes in the neighbour\n",
    "                in_spikes.append(nh_time_spike)\n",
    "            in_spikes = np.concatenate(in_spikes)\n",
    "            \n",
    "            ne.synaptic_input(in_spikes,i)\n",
    "            \n",
    "            ne.update_voltage(i,noise,dt)\n",
    "           \n",
    "    for i,ne in enumerate(neurons):        \n",
    "        print(\"Neuron {} spike count {}\".format(i,sum(ne.spikes)))\n",
    "  \n",
    "    return neurons    "
   ]
  },
  {
   "cell_type": "code",
   "execution_count": null,
   "metadata": {},
   "outputs": [],
   "source": [
    "#Example code use\n",
    "noise = 20\n",
    "spike_strength = -200\n",
    "neurons = competition(noise,spike_strength)\n",
    "Plot_neurons(neurons)"
   ]
  },
  {
   "cell_type": "markdown",
   "metadata": {},
   "source": [
    "**Q1 :** Run the function competition with the parameter noise equal to 0.0.\n",
    "Run it multiple times, so that you would see that depending on the initial membrane potential\n",
    "of the neurons (Vm is initialized randomly), either the first or the second neuron will become\n",
    "dominant. Produce a plot of both cases."
   ]
  },
  {
   "cell_type": "code",
   "execution_count": null,
   "metadata": {},
   "outputs": [],
   "source": [
    "###############################\n",
    "#### Your code Starts Here ####\n",
    "\n",
    "\n",
    "##### Your code ends Here #####\n",
    "###############################"
   ]
  },
  {
   "cell_type": "markdown",
   "metadata": {},
   "source": [
    "In the above case the noise current was \"turned off\" and given the same starting membrane\n",
    "potentials the simulation would always behave exactly the same. Now let's turn the noise up a\n",
    "little and see how this influences the system."
   ]
  },
  {
   "cell_type": "markdown",
   "metadata": {},
   "source": [
    "**Q2 :** Run the function competition with the parameter noise equal to 10.0.\n",
    "Run it multiple times. You should see that with this amount of noise, sometimes the neurons\n",
    "switch places during a simulation - the one that was being inhibited can become the active one.\n",
    "Add a plot from a simulation where the neurons clearly switched places. Why\n",
    "can this happen now that we added noise (and why it could not happen without noise)?"
   ]
  },
  {
   "cell_type": "code",
   "execution_count": null,
   "metadata": {},
   "outputs": [],
   "source": [
    "###############################\n",
    "#### Your code Starts Here ####\n",
    "\n",
    "\n",
    "##### Your code ends Here #####\n",
    "###############################"
   ]
  },
  {
   "cell_type": "markdown",
   "metadata": {},
   "source": [
    "<font color=green>Your Answer</font>"
   ]
  },
  {
   "cell_type": "markdown",
   "metadata": {},
   "source": [
    "**Q3** Run competition with the parameter noise equal to 10.0 and parameter spike_strength =\n",
    "-300 (the strength of inhibition). Run it multiple times. Why does the switch not happen any more?"
   ]
  },
  {
   "cell_type": "code",
   "execution_count": null,
   "metadata": {},
   "outputs": [],
   "source": [
    "###############################\n",
    "#### Your code Starts Here ####\n",
    "\n",
    "\n",
    "##### Your code ends Here #####\n",
    "###############################"
   ]
  },
  {
   "cell_type": "markdown",
   "metadata": {},
   "source": [
    "<font color=green>Your Answer</font>"
   ]
  },
  {
   "cell_type": "markdown",
   "metadata": {},
   "source": [
    "**Q4 :** Run competition with the parameter noise equal to 50.0 and parameter spike_strength =-200.0. Why does the switching becomes more frequent with higher noise? Also notice that\n",
    "the overall behaviour is more jumpy. Plot the behaviour."
   ]
  },
  {
   "cell_type": "code",
   "execution_count": null,
   "metadata": {},
   "outputs": [],
   "source": [
    "###############################\n",
    "#### Your code Starts Here ####\n",
    "\n",
    "\n",
    "##### Your code ends Here #####\n",
    "###############################"
   ]
  },
  {
   "cell_type": "markdown",
   "metadata": {},
   "source": [
    "<font color=green>Your Answer</font>"
   ]
  },
  {
   "cell_type": "markdown",
   "metadata": {},
   "source": [
    "## Exercise 1.2: Two neurons."
   ]
  },
  {
   "cell_type": "markdown",
   "metadata": {},
   "source": [
    "### Part II: oscillation (0.5pt)\n"
   ]
  },
  {
   "cell_type": "markdown",
   "metadata": {},
   "source": [
    "In the second part of this exercise we will look at the emergence of oscillations when neuron A\n",
    "excites neuron B, but neuron B inhibits neuron A.  \n",
    "In this task only neuron A receives the injected and noise currents. Neuron B will be activated only by the excitatory synaptic currents coming from its synapses with A (A -> B). As\n",
    "soon as B has accumulated enough excitation and fires, neuron A will be inhibited due to the\n",
    "inhibitory synapse between B -> A. This will create a pause in neuron A-s firing even though\n",
    "the excitatory injected current is still there."
   ]
  },
  {
   "cell_type": "code",
   "execution_count": null,
   "metadata": {},
   "outputs": [],
   "source": [
    "def oscillation(spike_strength =[-500.0,100.0],taus=[15,2]):\n",
    "    \n",
    "    T = 2;  #duration of simulation in sec\n",
    "    dt=0.001;\n",
    "    number_of_steps = int(T/dt)\n",
    "    \n",
    "    I_const = [80.0,0.0] # injected current to each cell\n",
    "    noise = [10.0,0.0] #no noise for inhibitory\n",
    "    g_leak= [0.2,0.1]\n",
    "    taus = [15,2]\n",
    "    \n",
    "    n_neurons = 2\n",
    "    \n",
    "    #How neurons are connected between them if [0,1] == 1 then conexion from neuron 0 to 1     \n",
    "    connectivity = np.zeros((n_neurons,n_neurons))\n",
    "    connectivity[0,1] =1 \n",
    "    connectivity[1,0] =1\n",
    "    \n",
    "    #We create the neurons with the class from the previous cell\n",
    "    neurons = []\n",
    "    for i in range(n_neurons): \n",
    "        neurons.append(Neuron(spike_strength[i],I_const[i],g_leak[i],taus[i]))\n",
    "   \n",
    "    print('Initial voltages:',neurons[0].V,neurons[1].V)\n",
    "                  \n",
    "    for i in range(number_of_steps): \n",
    "        \n",
    "        for j,ne in enumerate(neurons): \n",
    "            \n",
    "            ne.checkspike(i) #Checks if the neuron has generated one spike\n",
    "        \n",
    "            neighbours = np.where(connectivity[j,:] == 1)  #Neurons from wich the neuron receives inputs \n",
    "            \n",
    "            #Calculate incoming spikes \n",
    "            in_spikes=[]\n",
    "            for ngh in neighbours:\n",
    "                nh_time_spike = np.concatenate(np.nonzero(neurons[ngh[0]].spikes))  #past timepoints with spikes in the neighbour\n",
    "                in_spikes.append(nh_time_spike)\n",
    "            in_spikes = np.concatenate(in_spikes)\n",
    "            \n",
    "            ne.synaptic_input(in_spikes,i)\n",
    "            \n",
    "            ne.update_voltage(i,noise[j],dt)\n",
    "           \n",
    "    for i,ne in enumerate(neurons):        \n",
    "        print(\"Neuron {} spike count {}\".format(i,sum(ne.spikes)))\n",
    "  \n",
    "    return neurons    "
   ]
  },
  {
   "cell_type": "markdown",
   "metadata": {},
   "source": [
    "**Q1 :** Run the code in oscillation. Describe the behaviour you observe. How many spikes of neuron A it takes to drive neuron B\n",
    "to fire? How long is the pause in A's firing after B has inhibited it? Add the plot."
   ]
  },
  {
   "cell_type": "code",
   "execution_count": null,
   "metadata": {},
   "outputs": [],
   "source": [
    "###############################\n",
    "#### Your code Starts Here ####\n",
    "\n",
    "\n",
    "##### Your code ends Here #####\n",
    "###############################"
   ]
  },
  {
   "cell_type": "markdown",
   "metadata": {},
   "source": [
    "<font color=green>Your Answer</font>"
   ]
  },
  {
   "cell_type": "markdown",
   "metadata": {},
   "source": [
    "Q2 : TODO: Double the strength and duration of the inhibitory influence - in the oscillation\n",
    "you need spike_strength = [-1000,100] and taus = [30,2]. Run the simulation. How long is the pause in A's firing after B has inhibited it? If you notice any other changes in\n",
    "behaviour, report them. Add a plot."
   ]
  },
  {
   "cell_type": "code",
   "execution_count": null,
   "metadata": {},
   "outputs": [],
   "source": [
    "###############################\n",
    "#### Your code Starts Here ####\n",
    "\n",
    "\n",
    "\n",
    "#### Your code ends Here ####\n",
    "###############################"
   ]
  },
  {
   "cell_type": "markdown",
   "metadata": {},
   "source": [
    "<font color=green>Your Answer</font>"
   ]
  },
  {
   "cell_type": "markdown",
   "metadata": {},
   "source": [
    "## Exercise 2: Lateral inhibition (1pt)\n",
    "\n",
    "\n"
   ]
  },
  {
   "cell_type": "markdown",
   "metadata": {},
   "source": [
    "We will now study a population of 11 neurons arranged on a straight line. All neurons receive\n",
    "the same injected current. Each neuron inhibits its direct neighbours on the left and on the\n",
    "right. Therefore the neurons on the left and right edges receive inhibition from only one other\n",
    "neuron."
   ]
  },
  {
   "cell_type": "code",
   "execution_count": null,
   "metadata": {},
   "outputs": [],
   "source": [
    "def lateral_inh():\n",
    "    \n",
    "    T = 2;  #duration of simulation in sec\n",
    "    dt=0.001;\n",
    "    number_of_steps = int(T/dt)\n",
    "    \n",
    "    I_const = 50.0 # injected current to each cell\n",
    "    \n",
    "    noise = 0 #no noise \n",
    "    g_leak= 1\n",
    "    taus = 20\n",
    "    spike_strength = -100\n",
    "    \n",
    "    n_neurons = 11\n",
    "    \n",
    "    #We create the neurons with the class from the previous cell\n",
    "    neurons = []\n",
    "    for i in range(n_neurons): \n",
    "        neurons.append(Neuron(spike_strength,I_const,g_leak,taus))\n",
    "        \n",
    "    #How neurons are connected between them if [0,1] == 1 then conexion from neuron 0 to 1     \n",
    "    connectivity = np.zeros((n_neurons,n_neurons))\n",
    "    minus_one = n_neurons-1\n",
    "    connectivity[0:minus_one,1:n_neurons] += np.eye(minus_one)  \n",
    "    connectivity[1:n_neurons,0:minus_one] += np.eye(minus_one)  \n",
    "                  \n",
    "    for i in range(number_of_steps): \n",
    "        \n",
    "        for j,ne in enumerate(neurons): \n",
    "            \n",
    "            ne.checkspike(i) #Checks if the neuron has generated one spike\n",
    "        \n",
    "            neighbours = np.where(connectivity[j,:] == 1)  #Neurons from wich the neuron receives inputs \n",
    "            neighbours = np.concatenate(neighbours)\n",
    "            \n",
    "            #Calculate incoming spikes \n",
    "            in_spikes=[]\n",
    "            for ngh in neighbours:\n",
    "                nh_time_spike = np.concatenate(np.nonzero(neurons[ngh].spikes))  #past timepoints with spikes in the neighbour\n",
    "                in_spikes.append(nh_time_spike)\n",
    "            in_spikes = np.concatenate(in_spikes)\n",
    "            \n",
    "            ne.synaptic_input(in_spikes,i)\n",
    "            \n",
    "            ne.update_voltage(i,noise,dt)\n",
    "    \n",
    "    spik_count = np.zeros(n_neurons)\n",
    "    for i,ne in enumerate(neurons):        \n",
    "        print(\"Neuron {} spike count {}\".format(i,sum(ne.spikes)))\n",
    "        spik_count[i] = sum(ne.spikes)\n",
    "        \n",
    "    \n",
    "    fig, ax = plt.subplots()\n",
    "    neuro = range(n_neurons)\n",
    "    ax.bar(neuro,spik_count, align='center', alpha=0.5, capsize=10)\n",
    "\n",
    "    ax.set_ylabel('Spikes')\n",
    "    ax.set_xlabel('Neuron')\n",
    "    ax.set_xticks(neuro)\n",
    "    ax.set_title('Lateral inhibition')\n",
    "    ax.yaxis.grid(True)\n",
    "  "
   ]
  },
  {
   "cell_type": "markdown",
   "metadata": {},
   "source": [
    "**Q1 :** Run the code lateral_inh.\n",
    "It will print out the number of spikes each of the 11 neurons during 2 seconds. Run the code\n",
    "multiple times. Describe the pattern in the firing rates of neurons. Is this pattern there in every\n",
    "run? Why do you think this pattern emerges?\n",
    "\n"
   ]
  },
  {
   "cell_type": "code",
   "execution_count": null,
   "metadata": {},
   "outputs": [],
   "source": [
    "###############################\n",
    "#### Your code Starts Here ####\n",
    "\n",
    "\n",
    "##### Your code ends Here #####\n",
    "###############################"
   ]
  },
  {
   "cell_type": "markdown",
   "metadata": {},
   "source": [
    "<font color=green>Your Answer</font>"
   ]
  },
  {
   "cell_type": "markdown",
   "metadata": {},
   "source": [
    "Now we will connect the neurons in a circle, not a straight line. This means the leftmost\n",
    "neuron is now connected to the rightmost and viceversa. This means they will receive inhibition\n",
    "from two other neurons like everyone else."
   ]
  },
  {
   "cell_type": "code",
   "execution_count": null,
   "metadata": {},
   "outputs": [],
   "source": [
    "def lateral_circle(display=True):\n",
    "    \n",
    "    T = 2;  #duration of simulation in sec\n",
    "    dt=0.001;\n",
    "    number_of_steps = int(T/dt)\n",
    "    \n",
    "    I_const = 50.0 # injected current to each cell\n",
    "    \n",
    "    noise = 0 #no noise \n",
    "    g_leak= 1\n",
    "    taus = 20\n",
    "    spike_strength = -100\n",
    "    \n",
    "    n_neurons = 11\n",
    "    \n",
    "    #We create the neurons with the class from the previous cell\n",
    "    neurons = []\n",
    "    for i in range(n_neurons): \n",
    "        neurons.append(Neuron(spike_strength,I_const,g_leak,taus))\n",
    "        \n",
    "    #How neurons are connected between them if [0,1] == 1 then conexion from neuron 0 to 1     \n",
    "    connectivity = np.zeros((n_neurons,n_neurons))\n",
    "    minus_one = n_neurons-1\n",
    "    connectivity[0:minus_one,1:n_neurons] += np.eye(minus_one)  \n",
    "    connectivity[1:n_neurons,0:minus_one] += np.eye(minus_one)\n",
    "    connectivity[0,minus_one]=1\n",
    "    connectivity[minus_one,0]=1\n",
    "                  \n",
    "    for i in range(number_of_steps): \n",
    "        \n",
    "        for j,ne in enumerate(neurons): \n",
    "            \n",
    "            ne.checkspike(i) #Checks if the neuron has generated one spike\n",
    "        \n",
    "            neighbours = np.where(connectivity[j,:] == 1)  #Neurons from wich the neuron receives inputs \n",
    "            neighbours = np.concatenate(neighbours)\n",
    "            \n",
    "            #Calculate incoming spikes \n",
    "            in_spikes=[]\n",
    "            for ngh in neighbours:\n",
    "                nh_time_spike = np.concatenate(np.nonzero(neurons[ngh].spikes))  #past timepoints with spikes in the neighbour\n",
    "                in_spikes.append(nh_time_spike)\n",
    "            in_spikes = np.concatenate(in_spikes)\n",
    "            \n",
    "            ne.synaptic_input(in_spikes,i)\n",
    "            \n",
    "            ne.update_voltage(i,noise,dt)\n",
    "    \n",
    "    spik_count = np.zeros(n_neurons)        \n",
    "    for i,ne in enumerate(neurons): \n",
    "        spik_count[i] = sum(ne.spikes)\n",
    "        if display:\n",
    "            print(\"Neuron {} spike count {}\".format(i,sum(ne.spikes)))\n",
    "    \n",
    "    if not display:  \n",
    "        return spik_count\n",
    "\n",
    "def lateral_circle_trials():\n",
    "    \n",
    "    trials = 10\n",
    "    n_neurons = 11\n",
    "    \n",
    "    spik_count =np.zeros(n_neurons)\n",
    "    for i in range(trials):\n",
    "        spik_count += lateral_circle(False)\n",
    "   \n",
    "    spik_count /= trials\n",
    "    \n",
    "    fig, ax = plt.subplots()\n",
    "    neuro = range(n_neurons)\n",
    "    ax.bar(neuro,spik_count, align='center', alpha=0.5, capsize=10)\n",
    "    ax.set_xticks(neuro)\n",
    "    ax.set_ylabel('Spikes')\n",
    "    ax.set_xlabel('Neuron')\n",
    "    ax.set_title('Lateral circle')\n",
    "   \n",
    "    return spik_count"
   ]
  },
  {
   "cell_type": "markdown",
   "metadata": {},
   "source": [
    "**Q2 :** Run the code lateral_circle.\n",
    "It will print out the number of spikes each of the 11 neurons during 2 seconds. Run the code\n",
    "multiple times. There is a pattern in each individual run, but it's not the same every time. Show some\n",
    "print outs of spike counts.\n",
    "To run the same experiment 10 times and average the spike counts, run lateral_circle_trials.\n",
    "Is there a pattern when we average over many runs? Why does this circular connectivity behave\n",
    "different from linear?."
   ]
  },
  {
   "cell_type": "code",
   "execution_count": null,
   "metadata": {},
   "outputs": [],
   "source": [
    "###############################\n",
    "#### Your code Starts Here ####\n",
    "\n",
    "\n",
    "##### Your code ends Here #####\n",
    "###############################"
   ]
  },
  {
   "cell_type": "markdown",
   "metadata": {},
   "source": [
    "<font color=green>Your Answer</font>"
   ]
  },
  {
   "cell_type": "markdown",
   "metadata": {},
   "source": [
    "## Exercise 3: Border effect (1pt)"
   ]
  },
  {
   "cell_type": "markdown",
   "metadata": {},
   "source": [
    "Our third and final task is to see how the lateral inhibition can enhance our ability to detect\n",
    "borders. In the lecture you were introduced to the concept and saw some visual illusions caused\n",
    "by \"border enhancement\".\n",
    "To demonstrate this phenomena we will once again use circular connectivity, this time with\n",
    "15 neurons (more neurons simply to have more \"space\"). The major difference with previous\n",
    "exercise is that now neurons at positions 4-12 receive two times stronger injected input than\n",
    "the rest.\n",
    "We will first observe the neural behaviour without lateral inhibition and then compare it\n",
    "with the case where the inhibition is there. The goal is to see that lateral inhibition increases\n",
    "the difference of activity at the border of the \"stimulus\" (neuron 3 vs neuron 4 and 12 vs 13)."
   ]
  },
  {
   "cell_type": "markdown",
   "metadata": {},
   "source": [
    "**Q1 :** First run the function border_effect with spike strength = 0 (synaptic current is\n",
    "zero).\n",
    "Show the spike counts of all neurons (and the plot). Report the difference between the spike\n",
    "count of neurons 3 and 4. Report the difference between spike counts of neurons 12 and 13."
   ]
  },
  {
   "cell_type": "code",
   "execution_count": null,
   "metadata": {},
   "outputs": [],
   "source": [
    "# Your code\n",
    "def border_effect(spike_strength = 0.0):\n",
    "    \n",
    "    T = 2;  #duration of simulation in sec\n",
    "    dt=0.001;\n",
    "    number_of_steps = int(T/dt)\n",
    "    \n",
    "    I_const = 25.0 # injected current to each cell\n",
    "    \n",
    "    noise = 0 #no noise \n",
    "    g_leak= 1\n",
    "    taus = 20\n",
    "    \n",
    "    n_neurons = 15\n",
    "    \n",
    "    #We create the neurons with the class from the previous cell\n",
    "    neurons = []\n",
    "    # injected current to each cell is doubled for neurons from 4-12\n",
    "    for i in range(n_neurons): \n",
    "        if i>=3 and i<12:\n",
    "            I_const = 50.0\n",
    "        else:\n",
    "            I_const=25.0\n",
    "        neurons.append(Neuron(spike_strength,I_const,g_leak,taus))\n",
    "        \n",
    "    #How neurons are connected between them if [0,1] == 1 then conexion from neuron 0 to 1     \n",
    "    connectivity = np.zeros((n_neurons,n_neurons))\n",
    "    minus_one = n_neurons-1\n",
    "    connectivity[0:minus_one,1:n_neurons] += np.eye(minus_one)  \n",
    "    connectivity[1:n_neurons,0:minus_one] += np.eye(minus_one)\n",
    "    connectivity[0,minus_one]=1\n",
    "    connectivity[minus_one,0]=1\n",
    "                  \n",
    "    for i in range(number_of_steps):\n",
    "        \n",
    "        for j,ne in enumerate(neurons): \n",
    "            \n",
    "            ne.checkspike(i) #Checks if the neuron has generated one spike\n",
    "        \n",
    "            neighbours = np.where(connectivity[j,:] == 1)  #Neurons from wich the neuron receives inputs \n",
    "            neighbours = np.concatenate(neighbours)\n",
    "            \n",
    "            #Calculate incoming spikes \n",
    "            in_spikes=[]\n",
    "            for ngh in neighbours:\n",
    "                nh_time_spike = np.concatenate(np.nonzero(neurons[ngh].spikes))  #past timepoints with spikes in the neighbour\n",
    "                in_spikes.append(nh_time_spike)\n",
    "            in_spikes = np.concatenate(in_spikes)\n",
    "            \n",
    "            ne.synaptic_input(in_spikes,i)\n",
    "            \n",
    "            ne.update_voltage(i,noise,dt)\n",
    "    \n",
    "    spik_count =np.zeros(n_neurons)   \n",
    "    for i,ne in enumerate(neurons):        \n",
    "        print(\"Neuron {} spike count {}\".format(i+1,sum(ne.spikes)))\n",
    "        spik_count[i] = sum(ne.spikes)\n",
    "\n",
    "    fig, ax = plt.subplots()\n",
    "    neuro = range(n_neurons)\n",
    "    ax.bar(neuro,spik_count, align='center', alpha=0.5, capsize=10)\n",
    "    ax.set_xticks(neuro)\n",
    "    labels = range(1,n_neurons+1)\n",
    "    ax.set_xticklabels(labels)\n",
    "    ax.set_ylabel('Spikes')\n",
    "    ax.set_xlabel('Neuron')\n",
    "    ax.set_title('Border effect')\n",
    "    plt.plot(spik_count)\n",
    "    \n",
    "    return spik_count"
   ]
  },
  {
   "cell_type": "code",
   "execution_count": null,
   "metadata": {
    "scrolled": false
   },
   "outputs": [],
   "source": [
    "###############################\n",
    "#### Your code Starts Here ####\n",
    "\n",
    "\n",
    "##### Your code ends Here #####\n",
    "###############################"
   ]
  },
  {
   "cell_type": "markdown",
   "metadata": {},
   "source": [
    "<font color=green>Your Answer</font>"
   ]
  },
  {
   "cell_type": "markdown",
   "metadata": {},
   "source": [
    "Now we will turn on the lateral inhibition:"
   ]
  },
  {
   "cell_type": "markdown",
   "metadata": {},
   "source": [
    "**Q2 :** Run the code border_effect with spike strength = -50.0.\n",
    "Show the spike counts of all neurons and the plot. Report the difference between the count\n",
    "of neurons 3 and 4. Report the difference between counts of neurons 12 and 13. Describe\n",
    "intuitively why is the firing rate of neuron 3 lower than that of neuron 2. Why is firing rate of\n",
    "neuron 4 higher than that of neuron 5?"
   ]
  },
  {
   "cell_type": "code",
   "execution_count": null,
   "metadata": {},
   "outputs": [],
   "source": [
    "###############################\n",
    "#### Your code Starts Here ####\n",
    "\n",
    "\n",
    "##### Your code ends Here #####\n",
    "###############################"
   ]
  },
  {
   "cell_type": "markdown",
   "metadata": {},
   "source": [
    "<font color=green>Your Answer</font>"
   ]
  },
  {
   "cell_type": "markdown",
   "metadata": {},
   "source": [
    "## Exercise 4: The Human Brain Project & The Brain Initiative (1pt)\n",
    "\n"
   ]
  },
  {
   "cell_type": "markdown",
   "metadata": {},
   "source": [
    "The two most prominent ongoing brain projects are The Human Brain Project (https://www.humanbrainproject.eu) \n",
    "and The Brain Initiative (http://www.nih.gov/science/brain/index.htm). Go through their websites and compose an overview about each of them. It can include\n",
    "the points like:"
   ]
  },
  {
   "cell_type": "markdown",
   "metadata": {},
   "source": [
    "+ What is the goal of the project?\n",
    "+ When is has started?\n",
    "+ What have they promised to deliver?\n",
    "+ What have they achieved so far?\n",
    "+ When is the deadline?\n",
    "+ What is the value of the results they hope to eventually produce?\n",
    "+ Is the field of neuroscience done once those projects are complete?\n",
    "+ Any other information you will find interesting.\n",
    "In the end you should produce an informative story about the projects, which will allow the\n",
    "reader to grasp the ideas, the goals and the promises behind those two projects."
   ]
  },
  {
   "cell_type": "markdown",
   "metadata": {},
   "source": [
    "<font color=green>Your Answer</font>"
   ]
  }
 ],
 "metadata": {
  "kernelspec": {
   "display_name": "Python 3",
   "language": "python",
   "name": "python3"
  },
  "language_info": {
   "codemirror_mode": {
    "name": "ipython",
    "version": 3
   },
   "file_extension": ".py",
   "mimetype": "text/x-python",
   "name": "python",
   "nbconvert_exporter": "python",
   "pygments_lexer": "ipython3",
   "version": "3.7.3"
  }
 },
 "nbformat": 4,
 "nbformat_minor": 2
}
